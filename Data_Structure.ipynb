{
  "nbformat": 4,
  "nbformat_minor": 0,
  "metadata": {
    "colab": {
      "provenance": []
    },
    "kernelspec": {
      "name": "python3",
      "display_name": "Python 3"
    },
    "language_info": {
      "name": "python"
    }
  },
  "cells": [
    {
      "cell_type": "code",
      "execution_count": null,
      "metadata": {
        "id": "IwOXMWqcE_yj"
      },
      "outputs": [],
      "source": []
    },
    {
      "cell_type": "markdown",
      "source": [
        " 1. What are data structures, and why are they important ?\n",
        "  Ans - Data structures are ways to organize and store data so that it can be used efficiently. They are importent because\n",
        "      * They are efficient to use, They help in storing and retrieving data quickly.\n",
        "      * They keep data structured so it is easy to access.\n",
        "      * They improve performance in searching, sorting, and managing data.\n"
      ],
      "metadata": {
        "id": "I8LTzYz2FGt9"
      }
    },
    {
      "cell_type": "markdown",
      "source": [
        "2.  Explain the difference between mutable and immutable data types with examples.\n",
        "Ans -* Mutable means \"changeable.\" You can modify the data without creating a new object.\n",
        "     Ex- Lists in Python.\n",
        "    * Immutable means \"unchangeable.\" Once created, the data cannot be modified.\n",
        "     Ex- Strings in Python.\n",
        "\n",
        "\n",
        "\n"
      ],
      "metadata": {
        "id": "HRfp-YAhGfK1"
      }
    },
    {
      "cell_type": "markdown",
      "source": [
        "3.  What are the main differences between lists and tuples in Python\n",
        "Ans - ** Lists**- Changeable & Slower Mutable\n",
        "  *  Uses more memory because Python keeps extra space for modifications\n",
        "  * Slower than tuples due to flexibility\n",
        "\n",
        " ** Tuples ** Fixed & FasterImmutable cannot be changed after creation\n",
        "  *  Uses less memory since no extra space is needed\n",
        "  *  Faster than lists due to immutability."
      ],
      "metadata": {
        "id": "ZjZkU5jkHT2P"
      }
    },
    {
      "cell_type": "markdown",
      "source": [
        "4.  Describe how dictionaries store data\n",
        "Ans - A dictionary (dict) in Python stores data as key-value pairs, like a real-life dictionary where a word key maps to its meaning value."
      ],
      "metadata": {
        "id": "ailAnCR9IWBk"
      }
    },
    {
      "cell_type": "markdown",
      "source": [
        "5.  Why might you use a set instead of a list in Python\n",
        "Ans -We might  use a set instead of a list in Python because a set in Python is an unordered collection of unique items\n",
        "* It Automatically removes duplicates.\n"
      ],
      "metadata": {
        "id": "86SCarvhI4Hg"
      }
    },
    {
      "cell_type": "markdown",
      "source": [
        "6.  What is a string in Python, and how is it different from a list\n",
        "Ans - A string in Python is a sequence of characters enclosed in quotes (' ', \" \", or ''' ''').\n",
        "* Strings are immutable, meaning you cannot change characters directly.\n",
        "* Lists are mutable, so you can modify elements.\n",
        "\n",
        "\n",
        "\n",
        "\n"
      ],
      "metadata": {
        "id": "7WWMgip8Jr98"
      }
    },
    {
      "cell_type": "markdown",
      "source": [
        "7.  How do tuples ensure data integrity in Python\n",
        "Ans - A tuple in Python is an immutable sequence, it means its values cannot be changed after creation. This helps to maintain data integrity.\n",
        "* Prevents Accidental Changes\n",
        "* Reliable Data Storage\n",
        "* Hashability & Safe as Dictionary Keys"
      ],
      "metadata": {
        "id": "heEIv1P3KY3p"
      }
    },
    {
      "cell_type": "markdown",
      "source": [
        "8.  What is a hash table, and how does it relate to dictionaries in Python\n",
        "Ans - A hash table is a data structure that stores key-value pairs and allows fast data retrieval. It uses a hash function to convert keys into a unique index (hash) that maps to a specific value.\n",
        "In Python, dictionaries (dict) are implemented using hash tables.\n",
        "How It Works:\n",
        "Key is given → \"name\"\n",
        "Hash function converts it into a unique hash (index).\n",
        "Value is stored at that index in memory.\n",
        "Lookup is fast because the hash is used directly instead of searching through all items .\n",
        "\n"
      ],
      "metadata": {
        "id": "6FLSHXJfK_RU"
      }
    },
    {
      "cell_type": "markdown",
      "source": [
        "9.  Can lists contain different data types in Python\n",
        "Ans - Yes , Lists in Python can store different data types, including:\n",
        "Numbers (int, float)\n",
        "Strings (str)\n",
        "Booleans (True, False)\n",
        "Other lists (nested lists)\n",
        "Tuples, dictionaries, or even functions"
      ],
      "metadata": {
        "id": "Xw0y3fy-L1ox"
      }
    },
    {
      "cell_type": "markdown",
      "source": [
        "10.  Explain why strings are immutable in Python\n",
        "Ans - Immutability means that a string cannot be changed after it is created. In Python, strings are immutable for several important reasons\n",
        "*Since strings don’t change, Python can optimize memory allocation.\n",
        "*Lists cannot be used as keys because they are mutable."
      ],
      "metadata": {
        "id": "KPr_po9JMJ0F"
      }
    },
    {
      "cell_type": "markdown",
      "source": [
        "11. Lists cannot be used as keys because they are mutable.\n",
        "Ans - In Python, dictionary keys must be immutable, meaning they cannot change after creation. Lists are mutable, so they cannot be used as keys in a dictionary.\n",
        "* Lists can be modified (elements can be added, removed, or changed).\n",
        "* Dictionaries use a hash table for fast lookups.\n"
      ],
      "metadata": {
        "id": "pYeyu4PPMuRj"
      }
    },
    {
      "cell_type": "markdown",
      "source": [
        "12.  Describe a scenario where using a tuple would be preferable over a list\n",
        "Ans - A tuple is preferable when you need immutable, fixed, and reliable data. Here’s a real-world scenario where a tuple is the better choice\n",
        "Fixed Data – A location’s GPS coordinates don’t change (latitude, longitude).\n",
        "* Memory Efficient & Faster – Tuples take up less memory and provide faster access than lists.\n",
        "* Hashable & Safe as Dictionary Keys – You might want to store locations as keys in a dictionary."
      ],
      "metadata": {
        "id": "JwExdPZZNJlt"
      }
    },
    {
      "cell_type": "markdown",
      "source": [
        "13.  How do sets handle duplicate values in Python\n",
        "Ans - In Python, sets automatically remove duplicate values when storing data.\n",
        "* If you try to add duplicate elements, Python ignores them.\n",
        "* When a new element is added, Python checks if it already exists."
      ],
      "metadata": {
        "id": "7LZ1KYcQNgjJ"
      }
    },
    {
      "cell_type": "markdown",
      "source": [
        "14.  How does the “in” keyword work differently for lists and dictionaries\n",
        "Ans - The in keyword is used to check if an element exists in a list or a dictionary, but it works differently for each.\n",
        "* in with Lists  Checks for Values.\n",
        "* in with Dictionaries – Checks for Keys Only."
      ],
      "metadata": {
        "id": "xPYjH1xPN8za"
      }
    },
    {
      "cell_type": "markdown",
      "source": [
        "15.  Can you modify the elements of a tuple? Explain why or why not\n",
        "Ans - No elements in tuples cannot be modified because Tuples are immutable.\n",
        "*Memory Efficiency  Python optimizes tuple storage.\n",
        "*Data Integrity  Prevents accidental modifications."
      ],
      "metadata": {
        "id": "ptCQscNYOvwJ"
      }
    },
    {
      "cell_type": "markdown",
      "source": [
        "16.  What is a nested dictionary, and give an example of its use case\n",
        "Ans - A nested dictionary is a dictionary that contains another dictionary as a value. It allows for storing structured data in a hierarchical way.\n",
        "Ex *A store keeps track of products, their prices, and stock levels.\n",
        "   *A company stores details of employees, including their department and contact info.\n",
        "\n"
      ],
      "metadata": {
        "id": "cwGNd7jMPcck"
      }
    },
    {
      "cell_type": "markdown",
      "source": [
        "17.  Describe the time complexity of accessing elements in a dictionary\n",
        "Ans - Python dictionaries are implemented using a hash table, which makes key-based access very efficient.\n",
        "* Direct key lookup in a dictionary is very fast\n",
        "* Python computes a hash value for the key and directly finds the corresponding value in the hash table."
      ],
      "metadata": {
        "id": "vb1fZlAwQJTR"
      }
    },
    {
      "cell_type": "markdown",
      "source": [
        "18.  In what situations are lists preferred over dictionaries\n",
        "Ans - When the Lists are Preferred Over Dictionaries,\n",
        "Lists and dictionaries serve different purposes, and lists are preferred in situations where ordered, sequential data is needed.\n",
        "\n"
      ],
      "metadata": {
        "id": "omDVtQtyQkcC"
      }
    },
    {
      "cell_type": "markdown",
      "source": [
        "19.  Why are dictionaries considered unordered, and how does that affect data retrieval\n",
        "Ans - Dictionaries in Python versions before 3.7 were unordered, meaning that the key-value pairs were not stored in a predictable order. However, since Python 3.7, dictionaries maintain insertion order as an implementation detail\n",
        "* Key-Based Access (O(1)) is Always Fast\n",
        "* Regardless of order, retrieving a value using a key lookup is still.\n",
        " Iteration Order Matters in Newer Versions Since Python 3.7+, loops over dictionaries will follow the order of insertion."
      ],
      "metadata": {
        "id": "-K8k1OqURJ43"
      }
    },
    {
      "cell_type": "markdown",
      "source": [
        "20.  Explain the difference between a list and a dictionary in terms of data retrieval.\n",
        "Ans - * Lists and dictionaries both store data, but they differ in how data is accessed and retrieved.\n",
        "Retrieval in Lists Based on Index\n",
        "Lists store elements in an ordered sequence.\n",
        "Retrieval is done using an index (O(1)).\n",
        "Searching for a value takes O(n).\n",
        "*  Retrieval in Dictionaries  Based on Key\n",
        "Dictionaries store data as key-value pairs.\n",
        "Retrieval is done using a key (O(1)).\n",
        "Keys are hashed for fast lookups."
      ],
      "metadata": {
        "id": "cGwhO7JmR0vy"
      }
    },
    {
      "cell_type": "markdown",
      "source": [
        "                  ** Practical Questions**"
      ],
      "metadata": {
        "id": "tYk60l6TSfZB"
      }
    },
    {
      "cell_type": "markdown",
      "source": [
        " 1. Write a code to create a string with your name and print it\n"
      ],
      "metadata": {
        "id": "9CdnLh7nSuY3"
      }
    },
    {
      "cell_type": "code",
      "source": [
        "my_name = \"Abrar Ahamed\"\n",
        "\n",
        "print(my_name)\n"
      ],
      "metadata": {
        "id": "KBzpRmeQS114"
      },
      "execution_count": null,
      "outputs": []
    },
    {
      "cell_type": "markdown",
      "source": [
        "2.  Write a code to find the length of the string \"Hello World\"\n"
      ],
      "metadata": {
        "id": "xwkLKuNlTFHC"
      }
    },
    {
      "cell_type": "code",
      "source": [
        "my_string = \"Hello World\"\n",
        "\n",
        "length = len(my_string)\n",
        "\n",
        "print(\"Length of the string:\", length)\n"
      ],
      "metadata": {
        "id": "KChSMUsrTIh7"
      },
      "execution_count": null,
      "outputs": []
    },
    {
      "cell_type": "markdown",
      "source": [
        "3.  Write a code to slice the first 3 characters from the string \"Python Programming\"\n"
      ],
      "metadata": {
        "id": "JsNKPeTqTP3L"
      }
    },
    {
      "cell_type": "code",
      "source": [
        "my_string = \"Python Programming\"\n",
        "first_three = my_string[:3]\n",
        "print(\"First 3 characters:\", first_three)\n"
      ],
      "metadata": {
        "id": "-2HRu5h0TTua"
      },
      "execution_count": null,
      "outputs": []
    },
    {
      "cell_type": "markdown",
      "source": [
        "4.  Write a code to convert the string \"hello\" to uppercase\n"
      ],
      "metadata": {
        "id": "Vh2Q39_BTiya"
      }
    },
    {
      "cell_type": "code",
      "source": [
        "my_string = \"hello\"\n",
        "uppercase_string = my_string.upper()\n",
        "print(\"Uppercase:\", uppercase_string)\n"
      ],
      "metadata": {
        "id": "6wIzgvgNTl5A"
      },
      "execution_count": null,
      "outputs": []
    },
    {
      "cell_type": "markdown",
      "source": [
        "5   Write a code to replace the word \"apple\" with \"orange\" in the string \"I like apple\"\n"
      ],
      "metadata": {
        "id": "1vFbuj5eTuue"
      }
    },
    {
      "cell_type": "code",
      "source": [
        "my_string = \"I like apple\"\n",
        "\n",
        "new_string = my_string.replace(\"apple\", \"orange\")\n",
        "\n",
        "print(new_string)\n"
      ],
      "metadata": {
        "id": "_IPGe_U5TyOb"
      },
      "execution_count": null,
      "outputs": []
    },
    {
      "cell_type": "markdown",
      "source": [
        "6. Write a code to create a list with numbers 1 to 5 and print it\n"
      ],
      "metadata": {
        "id": "yy0EOo2lT-Mv"
      }
    },
    {
      "cell_type": "code",
      "source": [
        "numbers = [1, 2, 3, 4, 5]\n",
        "\n",
        "print(numbers)\n"
      ],
      "metadata": {
        "id": "zbQnZB39UJHZ"
      },
      "execution_count": null,
      "outputs": []
    },
    {
      "cell_type": "markdown",
      "source": [
        "7.  Write a code to append the number 10 to the list [1, 2, 3, 4]\n"
      ],
      "metadata": {
        "id": "EZ1JWiBPUTqd"
      }
    },
    {
      "cell_type": "code",
      "source": [
        "numbers = [1, 2, 3, 4]\n",
        "\n",
        "numbers.append(10)\n",
        "\n",
        "print(numbers)\n"
      ],
      "metadata": {
        "id": "gu4JDDMHUX4M"
      },
      "execution_count": null,
      "outputs": []
    },
    {
      "cell_type": "markdown",
      "source": [
        "8.  Write a code to remove the number 3 from the list [1, 2, 3, 4, 5]\n"
      ],
      "metadata": {
        "id": "C166j7aKUfUg"
      }
    },
    {
      "cell_type": "code",
      "source": [
        "numbers = [1, 2, 3, 4, 5]\n",
        "numbers.remove(3)\n",
        "print(numbers)\n"
      ],
      "metadata": {
        "id": "Um9X1I1wUkQw"
      },
      "execution_count": null,
      "outputs": []
    },
    {
      "cell_type": "markdown",
      "source": [
        "9.  Write a code to access the second element in the list ['a', 'b', 'c', 'd']\n"
      ],
      "metadata": {
        "id": "0vzL62McUtmU"
      }
    },
    {
      "cell_type": "code",
      "source": [
        "letters = ['a', 'b', 'c', 'd']\n",
        "\n",
        "second_element = letters[1]\n",
        "\n",
        "print(\"Second element:\", second_element)\n"
      ],
      "metadata": {
        "id": "O_yDVVTjUx0r"
      },
      "execution_count": null,
      "outputs": []
    },
    {
      "cell_type": "markdown",
      "source": [
        "10.  Write a code to reverse the list [10, 20, 30, 40, 50].\n"
      ],
      "metadata": {
        "id": "bSj2KS32U7CQ"
      }
    },
    {
      "cell_type": "code",
      "source": [
        "numbers = [10, 20, 30, 40, 50]\n",
        "\n",
        "numbers.reverse()\n",
        "\n",
        "print(numbers)\n"
      ],
      "metadata": {
        "id": "J_MrDktEU-Tc"
      },
      "execution_count": null,
      "outputs": []
    },
    {
      "cell_type": "markdown",
      "source": [
        "11.  Write a code to create a tuple with the elements 100, 200, 300 and print it.\n"
      ],
      "metadata": {
        "id": "ITsjq3PRVkCc"
      }
    },
    {
      "cell_type": "code",
      "source": [
        "my_tuple = (100, 200, 300)\n",
        "\n",
        "print(my_tuple)\n"
      ],
      "metadata": {
        "id": "BvBKt7VqVmzu"
      },
      "execution_count": null,
      "outputs": []
    },
    {
      "cell_type": "markdown",
      "source": [
        "12.  Write a code to access the second-to-last element of the tuple ('red', 'green', 'blue', 'yellow').\n"
      ],
      "metadata": {
        "id": "-jjnCqK0Vx1g"
      }
    },
    {
      "cell_type": "code",
      "source": [
        "colors = ('red', 'green', 'blue', 'yellow')\n",
        "\n",
        "second_to_last = colors[-2]\n",
        "\n",
        "print(\"Second-to-last element:\", second_to_last)\n"
      ],
      "metadata": {
        "id": "QuRF3VYkV3xb"
      },
      "execution_count": null,
      "outputs": []
    },
    {
      "cell_type": "markdown",
      "source": [
        " 13. Write a code to find the minimum number in the tuple (10, 20, 5, 15).\n"
      ],
      "metadata": {
        "id": "JfHiv8bjWGMn"
      }
    },
    {
      "cell_type": "code",
      "source": [
        "numbers = (10, 20, 5, 15)\n",
        "\n",
        "min_number = min(numbers)\n",
        "\n",
        "print(\"Minimum number:\", min_number)\n"
      ],
      "metadata": {
        "id": "q2zwxQnRWJef"
      },
      "execution_count": null,
      "outputs": []
    },
    {
      "cell_type": "markdown",
      "source": [
        " 14. Write a code to find the index of the element \"cat\" in the tuple ('dog', 'cat', 'rabbit').\n"
      ],
      "metadata": {
        "id": "MYohTiNiWSm5"
      }
    },
    {
      "cell_type": "code",
      "source": [
        "animals = ('dog', 'cat', 'rabbit')\n",
        "\n",
        "cat_index = animals.index(\"cat\")\n",
        "\n",
        "print(\"Index of 'cat':\", cat_index)\n"
      ],
      "metadata": {
        "id": "le4MQ2FoWW2u"
      },
      "execution_count": null,
      "outputs": []
    },
    {
      "cell_type": "markdown",
      "source": [
        " 15. Write a code to create a tuple containing three different fruits and check if \"kiwi\" is in it.\n"
      ],
      "metadata": {
        "id": "2pkRiHyvWdmP"
      }
    },
    {
      "cell_type": "code",
      "source": [
        "fruits = (\"apple\", \"banana\", \"orange\")\n",
        "\n",
        "is_kiwi_present = \"kiwi\" in fruits\n",
        "\n",
        "print(\"Is 'kiwi' in the tuple?\", is_kiwi_present)\n"
      ],
      "metadata": {
        "id": "ADq7GqLGWg0f"
      },
      "execution_count": null,
      "outputs": []
    },
    {
      "cell_type": "markdown",
      "source": [
        " 16. Write a code to create a set with the elements 'a', 'b', 'c' and print it.\n"
      ],
      "metadata": {
        "id": "qvqPEeF2WpeH"
      }
    },
    {
      "cell_type": "code",
      "source": [
        "my_set = {'a', 'b', 'c'}\n",
        "\n",
        "print(my_set)\n"
      ],
      "metadata": {
        "id": "o8S1RPpTWsm6"
      },
      "execution_count": null,
      "outputs": []
    },
    {
      "cell_type": "markdown",
      "source": [
        " 17. Write a code to clear all elements from the set {1, 2, 3, 4, 5}.\n"
      ],
      "metadata": {
        "id": "lPDpV7HOW4P_"
      }
    },
    {
      "cell_type": "code",
      "source": [
        "my_set = {1, 2, 3, 4, 5}\n",
        "\n",
        "my_set.clear()\n",
        "\n",
        "print(\"Set after clearing:\", my_set)\n"
      ],
      "metadata": {
        "id": "u2AwdRWvW6y_"
      },
      "execution_count": null,
      "outputs": []
    },
    {
      "cell_type": "markdown",
      "source": [
        " 18. Write a code to remove the element 4 from the set {1, 2, 3, 4}.\n"
      ],
      "metadata": {
        "id": "Z_3L6d7dXLpF"
      }
    },
    {
      "cell_type": "code",
      "source": [
        "my_set = {1, 2, 3, 4}\n",
        "\n",
        "my_set.remove(4)\n",
        "\n",
        "print(\"Set after removing 4:\", my_set)\n"
      ],
      "metadata": {
        "id": "NZ0bGg3zXOjS"
      },
      "execution_count": null,
      "outputs": []
    },
    {
      "cell_type": "markdown",
      "source": [
        " 19. Write a code to find the union of two sets {1, 2, 3} and {3, 4, 5}.\n"
      ],
      "metadata": {
        "id": "n1_JpwFtXYZd"
      }
    },
    {
      "cell_type": "code",
      "source": [
        "set1 = {1, 2, 3}\n",
        "set2 = {3, 4, 5}\n",
        "\n",
        "union_set = set1.union(set2)\n",
        "\n",
        "print(\"Union of sets:\", union_set)\n"
      ],
      "metadata": {
        "id": "b067rGiwXa5X"
      },
      "execution_count": null,
      "outputs": []
    },
    {
      "cell_type": "markdown",
      "source": [
        " 20. Write a code to find the intersection of two sets {1, 2, 3} and {2, 3, 4}.\n"
      ],
      "metadata": {
        "id": "UKxw4GcpXlWV"
      }
    },
    {
      "cell_type": "code",
      "source": [
        "set1 = {1, 2, 3}\n",
        "set2 = {2, 3, 4}\n",
        "\n",
        "intersection_set = set1.intersection(set2)\n",
        "\n",
        "print(\"Intersection of sets:\", intersection_set)\n"
      ],
      "metadata": {
        "id": "ufu4bQMbXoZH"
      },
      "execution_count": null,
      "outputs": []
    },
    {
      "cell_type": "markdown",
      "source": [
        " 21. Write a code to create a dictionary with the keys \"name\", \"age\", and \"city\", and print it.\n"
      ],
      "metadata": {
        "id": "sDTMpct1XxSK"
      }
    },
    {
      "cell_type": "code",
      "source": [
        "person = {\n",
        "    \"name\": \"Alice\",\n",
        "    \"age\": 25,\n",
        "    \"city\": \"New York\"\n",
        "}\n",
        "\n",
        "print(person)\n"
      ],
      "metadata": {
        "id": "CmMURHdaX0U9"
      },
      "execution_count": null,
      "outputs": []
    },
    {
      "cell_type": "markdown",
      "source": [
        " 22. Write a code to add a new key-value pair \"country\": \"USA\" to the dictionary {'name': 'John', 'age': 25}.\n"
      ],
      "metadata": {
        "id": "SktND_1oX_iI"
      }
    },
    {
      "cell_type": "code",
      "source": [
        "person = {'name': 'John', 'age': 25}\n",
        "\n",
        "person['country'] = 'USA'\n",
        "\n",
        "print(person)\n"
      ],
      "metadata": {
        "id": "8yUY6KEcYCmv"
      },
      "execution_count": null,
      "outputs": []
    },
    {
      "cell_type": "markdown",
      "source": [
        " 23. Write a code to access the value associated with the key \"name\" in the dictionary {'name': 'Alice', 'age': 30}.\n"
      ],
      "metadata": {
        "id": "qqIksNS_YMh4"
      }
    },
    {
      "cell_type": "code",
      "source": [
        "person = {'name': 'Alice', 'age': 30}\n",
        "\n",
        "name_value = person['name']\n",
        "\n",
        "print(\"Name:\", name_value)\n"
      ],
      "metadata": {
        "id": "NtPDEYqxYPaQ"
      },
      "execution_count": null,
      "outputs": []
    },
    {
      "cell_type": "markdown",
      "source": [
        " 24. Write a code to remove the key \"age\" from the dictionary {'name': 'Bob', 'age': 22, 'city': 'New York'}.\n"
      ],
      "metadata": {
        "id": "o-ikLfZGYYOU"
      }
    },
    {
      "cell_type": "code",
      "source": [
        "person = {'name': 'Bob', 'age': 22, 'city': 'New York'}\n",
        "\n",
        "del person['age']\n",
        "\n",
        "print(person)\n"
      ],
      "metadata": {
        "id": "PrhfsqthYZT1"
      },
      "execution_count": null,
      "outputs": []
    },
    {
      "cell_type": "markdown",
      "source": [
        " 25. Write a code to check if the key \"city\" exists in the dictionary {'name': 'Alice', 'city': 'Paris'}.\n"
      ],
      "metadata": {
        "id": "zLnuOu2ZYgaE"
      }
    },
    {
      "cell_type": "code",
      "source": [
        "person = {'name': 'Alice', 'city': 'Paris'}\n",
        "\n",
        "key_exists = \"city\" in person\n",
        "\n",
        "print(\"Does 'city' exist in the dictionary?\", key_exists)\n"
      ],
      "metadata": {
        "id": "qoS3-2VxYjcB"
      },
      "execution_count": null,
      "outputs": []
    },
    {
      "cell_type": "markdown",
      "source": [
        " 26. Write a code to create a list, a tuple, and a dictionary, and print them all.\n"
      ],
      "metadata": {
        "id": "1_KgVOIAZBtf"
      }
    },
    {
      "cell_type": "code",
      "source": [
        "my_list = [1, 2, 3, 4, 5]\n",
        "my_tuple = (10, 20, 30)\n",
        "my_dict = {\"name\": \"Alice\", \"age\": 25, \"city\": \"New York\"}\n",
        "print(\"List:\", my_list)\n",
        "print(\"Tuple:\", my_tuple)\n",
        "print(\"Dictionary:\", my_dict)\n"
      ],
      "metadata": {
        "id": "pHpp943UZFy-"
      },
      "execution_count": null,
      "outputs": []
    },
    {
      "cell_type": "markdown",
      "source": [
        " 27. Write a code to create a list of 5 random numbers between 1 and 100, sort it in ascending order, and print the  result.(replaced)\n",
        "\n"
      ],
      "metadata": {
        "id": "O67pfBo_ZR3V"
      }
    },
    {
      "cell_type": "code",
      "source": [
        "import random\n",
        "\n",
        "random_numbers = random.sample(range(1, 101), 5)\n",
        "\n",
        "random_numbers.sort()\n",
        "\n",
        "print(\"Sorted list of random numbers:\", random_numbers)\n"
      ],
      "metadata": {
        "id": "WXVRiSxfZbsR"
      },
      "execution_count": null,
      "outputs": []
    },
    {
      "cell_type": "markdown",
      "source": [
        "28. Write a code to create a list with strings and print the element at the third index.\n"
      ],
      "metadata": {
        "id": "a23rmybJZmEj"
      }
    },
    {
      "cell_type": "code",
      "source": [
        "my_list = [\"apple\", \"banana\", \"cherry\", \"date\", \"elderberry\"]\n",
        "\n",
        "print(\"Element at index 3:\", my_list[3])\n"
      ],
      "metadata": {
        "id": "xlfsHi0NZo5z"
      },
      "execution_count": null,
      "outputs": []
    },
    {
      "cell_type": "markdown",
      "source": [
        " 29. Write a code to combine two dictionaries into one and print the result.\n"
      ],
      "metadata": {
        "id": "ROjrC2bpZ3HK"
      }
    },
    {
      "cell_type": "code",
      "source": [
        "dict1 = {\"name\": \"Alice\", \"age\": 25}\n",
        "dict2 = {\"city\": \"New York\", \"country\": \"USA\"}\n",
        "\n",
        "dict1.update(dict2)\n",
        "\n",
        "print(\"Combined Dictionary:\", dict1)\n"
      ],
      "metadata": {
        "id": "xL-nolfsZ5un"
      },
      "execution_count": null,
      "outputs": []
    },
    {
      "cell_type": "markdown",
      "source": [
        " 30. Write a code to convert a list of strings into a set.\n"
      ],
      "metadata": {
        "id": "iRk7CqJhaB3b"
      }
    },
    {
      "cell_type": "code",
      "source": [
        "fruits = [\"apple\", \"banana\", \"cherry\", \"apple\", \"banana\"]\n",
        "\n",
        "fruits_set = set(fruits)\n",
        "\n",
        "print(\"Set of unique fruits:\", fruits_set)\n"
      ],
      "metadata": {
        "id": "L3sUCwM-aEXl"
      },
      "execution_count": null,
      "outputs": []
    },
    {
      "cell_type": "markdown",
      "source": [],
      "metadata": {
        "id": "2npBs1pYYqUn"
      }
    }
  ]
}